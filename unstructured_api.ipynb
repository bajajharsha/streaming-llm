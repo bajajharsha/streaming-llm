{
 "cells": [
  {
   "cell_type": "code",
   "execution_count": 1,
   "metadata": {},
   "outputs": [
    {
     "name": "stdout",
     "output_type": "stream",
     "text": [
      "Requirement already satisfied: unstructured-client in ./.venv/lib/python3.11/site-packages (0.30.0)\n",
      "Requirement already satisfied: aiofiles>=24.1.0 in ./.venv/lib/python3.11/site-packages (from unstructured-client) (24.1.0)\n",
      "Requirement already satisfied: cryptography>=3.1 in ./.venv/lib/python3.11/site-packages (from unstructured-client) (44.0.0)\n",
      "Requirement already satisfied: eval-type-backport>=0.2.0 in ./.venv/lib/python3.11/site-packages (from unstructured-client) (0.2.2)\n",
      "Requirement already satisfied: httpx>=0.27.0 in ./.venv/lib/python3.11/site-packages (from unstructured-client) (0.28.1)\n",
      "Requirement already satisfied: nest-asyncio>=1.6.0 in ./.venv/lib/python3.11/site-packages (from unstructured-client) (1.6.0)\n",
      "Requirement already satisfied: pydantic>=2.10.3 in ./.venv/lib/python3.11/site-packages (from unstructured-client) (2.10.6)\n",
      "Requirement already satisfied: pypdf>=4.0 in ./.venv/lib/python3.11/site-packages (from unstructured-client) (5.3.0)\n",
      "Requirement already satisfied: python-dateutil>=2.8.2 in ./.venv/lib/python3.11/site-packages (from unstructured-client) (2.9.0.post0)\n",
      "Requirement already satisfied: requests-toolbelt>=1.0.0 in ./.venv/lib/python3.11/site-packages (from unstructured-client) (1.0.0)\n",
      "Requirement already satisfied: typing-inspect>=0.9.0 in ./.venv/lib/python3.11/site-packages (from unstructured-client) (0.9.0)\n",
      "Requirement already satisfied: cffi>=1.12 in ./.venv/lib/python3.11/site-packages (from cryptography>=3.1->unstructured-client) (1.17.1)\n",
      "Requirement already satisfied: anyio in ./.venv/lib/python3.11/site-packages (from httpx>=0.27.0->unstructured-client) (4.8.0)\n",
      "Requirement already satisfied: certifi in ./.venv/lib/python3.11/site-packages (from httpx>=0.27.0->unstructured-client) (2025.1.31)\n",
      "Requirement already satisfied: httpcore==1.* in ./.venv/lib/python3.11/site-packages (from httpx>=0.27.0->unstructured-client) (1.0.7)\n",
      "Requirement already satisfied: idna in ./.venv/lib/python3.11/site-packages (from httpx>=0.27.0->unstructured-client) (3.10)\n",
      "Requirement already satisfied: h11<0.15,>=0.13 in ./.venv/lib/python3.11/site-packages (from httpcore==1.*->httpx>=0.27.0->unstructured-client) (0.14.0)\n",
      "Requirement already satisfied: annotated-types>=0.6.0 in ./.venv/lib/python3.11/site-packages (from pydantic>=2.10.3->unstructured-client) (0.7.0)\n",
      "Requirement already satisfied: pydantic-core==2.27.2 in ./.venv/lib/python3.11/site-packages (from pydantic>=2.10.3->unstructured-client) (2.27.2)\n",
      "Requirement already satisfied: typing-extensions>=4.12.2 in ./.venv/lib/python3.11/site-packages (from pydantic>=2.10.3->unstructured-client) (4.12.2)\n",
      "Requirement already satisfied: six>=1.5 in ./.venv/lib/python3.11/site-packages (from python-dateutil>=2.8.2->unstructured-client) (1.17.0)\n",
      "Requirement already satisfied: requests<3.0.0,>=2.0.1 in ./.venv/lib/python3.11/site-packages (from requests-toolbelt>=1.0.0->unstructured-client) (2.32.3)\n",
      "Requirement already satisfied: mypy-extensions>=0.3.0 in ./.venv/lib/python3.11/site-packages (from typing-inspect>=0.9.0->unstructured-client) (1.0.0)\n",
      "Requirement already satisfied: pycparser in ./.venv/lib/python3.11/site-packages (from cffi>=1.12->cryptography>=3.1->unstructured-client) (2.22)\n",
      "Requirement already satisfied: charset-normalizer<4,>=2 in ./.venv/lib/python3.11/site-packages (from requests<3.0.0,>=2.0.1->requests-toolbelt>=1.0.0->unstructured-client) (3.4.1)\n",
      "Requirement already satisfied: urllib3<3,>=1.21.1 in ./.venv/lib/python3.11/site-packages (from requests<3.0.0,>=2.0.1->requests-toolbelt>=1.0.0->unstructured-client) (2.0.7)\n",
      "Requirement already satisfied: sniffio>=1.1 in ./.venv/lib/python3.11/site-packages (from anyio->httpx>=0.27.0->unstructured-client) (1.3.1)\n",
      "Note: you may need to restart the kernel to use updated packages.\n"
     ]
    }
   ],
   "source": [
    "%pip install unstructured-client"
   ]
  },
  {
   "cell_type": "code",
   "execution_count": 10,
   "metadata": {},
   "outputs": [],
   "source": [
    "import os\n",
    "import httpx\n",
    "import json\n",
    "\n",
    "import unstructured_client\n",
    "from unstructured_client.models import operations, shared\n",
    "\n",
    "# http_client = requests.Session()\n",
    "# http_client.verify = False\n",
    "\n",
    "client = unstructured_client.UnstructuredClient(\n",
    "    api_key_auth=os.getenv(\"UNSTRUCTURED_API_KEY\"),\n",
    "    server_url=os.getenv(\"UNSTRUCTURED_API_URL\"),\n",
    "    client=httpx.Client(verify=False),\n",
    ")"
   ]
  },
  {
   "cell_type": "code",
   "execution_count": 11,
   "metadata": {},
   "outputs": [],
   "source": [
    "filename = \"data/attention.pdf\"\n",
    "\n",
    "req = operations.PartitionRequest(\n",
    "    partition_parameters=shared.PartitionParameters(\n",
    "        files=shared.Files(\n",
    "            content=open(filename, \"rb\"),\n",
    "            file_name=filename,\n",
    "        ),\n",
    "        strategy=shared.Strategy.HI_RES,\n",
    "        languages=[\"eng\"],\n",
    "        split_pdf_page=True,  # If True, splits the PDF file into smaller chunks of pages.\n",
    "        split_pdf_allow_failed=True,  # If True, the partitioning continues even if some pages fail.\n",
    "        split_pdf_concurrency_level=15,  # Set the number of concurrent request to the maximum value: 15.\n",
    "    ),\n",
    ")\n"
   ]
  },
  {
   "cell_type": "code",
   "execution_count": null,
   "metadata": {},
   "outputs": [
    {
     "name": "stderr",
     "output_type": "stream",
     "text": [
      "INFO: HTTP Request: GET https://api.unstructuredapp.io/general/docs \"HTTP/1.1 200 OK\"\n"
     ]
    }
   ],
   "source": [
    "try:\n",
    "    res = client.general.partition(\n",
    "        request=req, server_url=os.getenv(\"UNSTRUCTURED_API_URL\")\n",
    "    )\n",
    "    element_dicts = [element for element in res.elements]\n",
    "\n",
    "    # Print the processed data's first element only.\n",
    "    print(element_dicts[0])\n",
    "\n",
    "    # Write the processed data to a local file.\n",
    "    json_elements = json.dumps(element_dicts, indent=2)\n",
    "\n",
    "    with open(\"test\", \"w\") as file:\n",
    "        file.write(json_elements)\n",
    "except Exception as e:\n",
    "    print(e)\n"
   ]
  },
  {
   "cell_type": "code",
   "execution_count": null,
   "metadata": {},
   "outputs": [],
   "source": []
  }
 ],
 "metadata": {
  "kernelspec": {
   "display_name": ".venv",
   "language": "python",
   "name": "python3"
  },
  "language_info": {
   "codemirror_mode": {
    "name": "ipython",
    "version": 3
   },
   "file_extension": ".py",
   "mimetype": "text/x-python",
   "name": "python",
   "nbconvert_exporter": "python",
   "pygments_lexer": "ipython3",
   "version": "3.11.11"
  }
 },
 "nbformat": 4,
 "nbformat_minor": 2
}
